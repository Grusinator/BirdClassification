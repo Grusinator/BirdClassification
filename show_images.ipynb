{
 "cells": [
  {
   "cell_type": "code",
   "execution_count": 13,
   "metadata": {},
   "outputs": [
    {
     "name": "stdout",
     "output_type": "stream",
     "text": [
      "validation_data/test1/input_folder/307_after.jpg\n",
      "validation_data/test1/input_folder/296_before.jpg\n",
      "validation_data/test1/input_folder/298_before.jpg\n",
      "validation_data/test1/input_folder/299_before.jpg\n",
      "validation_data/test1/input_folder/305_before.jpg\n",
      "validation_data/test1/input_folder/301_after.jpg\n",
      "validation_data/test1/input_folder/295_before.jpg\n",
      "validation_data/test1/input_folder/304_after.jpg\n",
      "validation_data/test1/input_folder/307_before.jpg\n",
      "validation_data/test1/input_folder/300_before.jpg\n",
      "validation_data/test1/input_folder/302_after.jpg\n",
      "validation_data/test1/input_folder/302_before.jpg\n",
      "validation_data/test1/input_folder/298_after.jpg\n",
      "validation_data/test1/input_folder/303_before.jpg\n",
      "validation_data/test1/results/307_after.jpg\n",
      "validation_data/test1/results/296_before.jpg\n",
      "validation_data/test1/results/298_before.jpg\n",
      "validation_data/test1/results/299_before.jpg\n",
      "validation_data/test1/results/305_before.jpg\n",
      "validation_data/test1/results/301_after.jpg\n",
      "validation_data/test1/results/295_before.jpg\n",
      "validation_data/test1/results/304_after.jpg\n",
      "validation_data/test1/results/307_before.jpg\n",
      "validation_data/test1/results/300_before.jpg\n",
      "validation_data/test1/results/302_after.jpg\n",
      "validation_data/test1/results/302_before.jpg\n",
      "validation_data/test1/results/298_after.jpg\n",
      "validation_data/test1/results/303_before.jpg\n"
     ]
    }
   ],
   "source": [
    "from IPython.display import Image \n",
    "#Image(filename='data/empire.jpg')\n",
    "from xmllabel2img.xmllabel2img import getfilenames\n",
    "\n",
    "\n",
    "from matplotlib.pyplot import imshow\n",
    "import numpy as np\n",
    "from PIL import Image\n",
    "\n",
    "#%matplotlib inline\n",
    "#pil_im = Image.open('data/empire.jpg', 'r')\n",
    "#imshow(np.asarray(pil_im))\n",
    "\n",
    "path_input = \"validation_data/test1/input_folder/\"\n",
    "path_res = \"validation_data/test1/results/\"\n",
    "\n",
    "list_input = getfilenames(path_input, \".jpg\")\n",
    "list_res   = getfilenames(path_res, \".jpg\")\n"
   ]
  },
  {
   "cell_type": "code",
   "execution_count": 15,
   "metadata": {},
   "outputs": [],
   "source": [
    "%matplotlib inline\n",
    "for path in list_input:\n",
    "    #Image(filename=path)\n",
    "    pil_im = Image.open(path, 'r')\n",
    "    pil_im.show()\n"
   ]
  },
  {
   "cell_type": "code",
   "execution_count": 17,
   "metadata": {},
   "outputs": [
    {
     "data": {
      "text/plain": [
       "<matplotlib.image.AxesImage at 0x7f55f2e90a90>"
      ]
     },
     "execution_count": 17,
     "metadata": {},
     "output_type": "execute_result"
    },
    {
     "data": {
      "image/png": "[encoded data removed]",
      "text/plain": [
       "<matplotlib.figure.Figure at 0x7f560291bb70>"
      ]
     },
     "metadata": {},
     "output_type": "display_data"
    }
   ],
   "source": [
    "%matplotlib inline\n",
    "from matplotlib.pyplot import imshow\n",
    "from scipy.misc import imread\n",
    "\n",
    "test_path=\"validation_data/test1/results/303_before.jpg\"\n",
    "\n",
    "imshow(imread(test_path, 1))"
   ]
  },
  {
   "cell_type": "code",
   "execution_count": 19,
   "metadata": {},
   "outputs": [
    {
     "ename": "SyntaxError",
     "evalue": "invalid syntax (<ipython-input-19-629a75354d67>, line 6)",
     "output_type": "error",
     "traceback": [
      "\u001b[0;36m  File \u001b[0;32m\"<ipython-input-19-629a75354d67>\"\u001b[0;36m, line \u001b[0;32m6\u001b[0m\n\u001b[0;31m    def showashtml(path)\u001b[0m\n\u001b[0m                        ^\u001b[0m\n\u001b[0;31mSyntaxError\u001b[0m\u001b[0;31m:\u001b[0m invalid syntax\n"
     ]
    }
   ],
   "source": [
    "from PIL import Image\n",
    "from IPython.display import HTML\n",
    "from io import BytesIO\n",
    "from base64 import b64encode\n",
    "\n",
    "def showashtml(path)\n",
    "    pil_im = Image.open(path)\n",
    "    b = BytesIO()  \n",
    "    pil_im.save(b, format='png')\n",
    "    HTML(\"<img src='data:image/png;base64,{0}'/>\".format(b64encode(b.getvalue()).decode('utf-8')))"
   ]
  },
  {
   "cell_type": "code",
   "execution_count": null,
   "metadata": {},
   "outputs": [],
   "source": [
    "for inputt, res in zip(list_input, list_Res):\n",
    "    "
   ]
  }
 ],
 "metadata": {
  "kernelspec": {
   "display_name": "Python 3",
   "language": "python",
   "name": "python3"
  },
  "language_info": {
   "codemirror_mode": {
    "name": "ipython",
    "version": 3
   },
   "file_extension": ".py",
   "mimetype": "text/x-python",
   "name": "python",
   "nbconvert_exporter": "python",
   "pygments_lexer": "ipython3",
   "version": "3.5.2"
  }
 },
 "nbformat": 4,
 "nbformat_minor": 2
}
