{
 "cells": [
  {
   "cell_type": "code",
   "execution_count": 1,
   "metadata": {
    "collapsed": true
   },
   "outputs": [],
   "source": [
    "import xml.etree.ElementTree\n",
    "import os\n",
    "\n",
    "from PIL import Image\n",
    "import numpy as np"
   ]
  },
  {
   "cell_type": "code",
   "execution_count": 2,
   "metadata": {
    "collapsed": true
   },
   "outputs": [],
   "source": [
    "def xmllabel2img(xmlfilenames, imagefilenames, img_size=(256,256,3)):\n",
    "    imagelist = []\n",
    "\n",
    "    if isinstance(xmlfilenames, list):\n",
    "\n",
    "        for xmlfilename in xmlfilenames:\n",
    "            filename = remove_path_and_ext(xmlfilename)\n",
    "\n",
    "            if filename in map(remove_path_and_ext, imagefilenames):\n",
    "                imagefilename = filter(lambda x: remove_path_and_ext(x) == filename, imagefilenames).__next__()\n",
    "                imagelist.append(singlexmllabel2img(xmlfilename, imagefilename))\n",
    "    else:\n",
    "        imagelist.append(singlexmllabel2img(xmlfilenames, imagefilenames))\n",
    "\n",
    "        return imagelist"
   ]
  },
  {
   "cell_type": "code",
   "execution_count": 3,
   "metadata": {
    "collapsed": true
   },
   "outputs": [],
   "source": [
    "def singlexmllabel2img(xmlfilename, imagefilename, img_size=(255,255,3)):\n",
    "    e = xml.etree.ElementTree.parse(xmlfilename).getroot()\n",
    "    obj = e.find('object')\n",
    "    bbox = obj.find('bndbox')\n",
    "    xmin = int(bbox.find('xmin').text)\n",
    "    xmax = int(bbox.find('xmax').text)\n",
    "    ymin = int(bbox.find('ymin').text)\n",
    "    ymax = int(bbox.find('ymax').text)\n",
    "\n",
    "    path = e.find('path')\n",
    "    \n",
    "    xdif = xmax - xmin\n",
    "    ydif = ymax - ymin\n",
    "    xmean = np.round(np.mean([xmax, xmin]))\n",
    "    ymean = np.round(np.mean([ymax, ymin]))\n",
    "\n",
    "    x_delta = np.round(img_size[0]/2)\n",
    "    y_delta = np.round(img_size[1]/2)\n",
    "\n",
    "    #min max with specified image size\n",
    "    xmin_f = xmean - x_delta\n",
    "    xmax_f = xmin_f + img_size[0]\n",
    "    ymin_f = ymean - y_delta\n",
    "    ymax_f = ymin_f + img_size[1]\n",
    "\n",
    "    im = Image.open(imagefilename)\n",
    "\n",
    "    crop_rectangle_f = (xmin_f, ymin_f, xmax_f, ymax_f)\n",
    "    cropped_im = im.crop(crop_rectangle_f)\n",
    "    cropped_im.show()\n",
    "\n",
    "    crop_rectangle_inner = (xmin, ymin, xmax, ymax)\n",
    "\n",
    "    xmin_b = xmin - xmin_f\n",
    "    xmax_b = img_size[0] - (xmax_f - xmax)\n",
    "    ymin_b = ymin - ymin_f\n",
    "    ymax_b = img_size[1] - (ymax_f - ymax) \n",
    "\n",
    "\n",
    "\n",
    "    crop_rectangle_b = (xmin_b, ymin_b, xmax_b, ymax_b)\n",
    "\n",
    "    \n",
    "\n",
    "    data = np.zeros(img_size, dtype=np.uint8)\n",
    "\n",
    "    data[xmin_b:xmax_b, ymin_b:ymax_b,:] = 255\n",
    "    img = Image.fromarray(data, 'RGB')\n",
    "    img.show()\n",
    "\n",
    "\n",
    "    return cropped_im, img"
   ]
  },
  {
   "cell_type": "code",
   "execution_count": 4,
   "metadata": {
    "collapsed": true
   },
   "outputs": [],
   "source": [
    "def getfilenames(path, ext):\n",
    "    filenamelist = []\n",
    "\n",
    "    for file in os.listdir(path):\n",
    "        if file.endswith(ext):\n",
    "            p = os.path.join(path, file)\n",
    "            print(p)\n",
    "            filenamelist.append(p)\n",
    "    return filenamelist"
   ]
  },
  {
   "cell_type": "code",
   "execution_count": 5,
   "metadata": {
    "collapsed": true
   },
   "outputs": [],
   "source": [
    "def remove_path_and_ext(path):\n",
    "    base=os.path.basename(path)\n",
    "    return os.path.splitext(base)[0]"
   ]
  },
  {
   "cell_type": "code",
   "execution_count": 6,
   "metadata": {},
   "outputs": [
    {
     "name": "stdout",
     "output_type": "stream",
     "text": [
      "/home/wsh/python/xmllabel2img/test_data/11_after_170801_4098.jpg\n",
      "/home/wsh/python/xmllabel2img/test_data/7_after_170801_4139.jpg\n",
      "/home/wsh/python/xmllabel2img/test_data/5_after_170801_4144.jpg\n",
      "/home/wsh/python/xmllabel2img/test_data/6_after_170801_4142.jpg\n",
      "/home/wsh/python/xmllabel2img/test_data/13_after_170801_4023.jpg\n",
      "/home/wsh/python/xmllabel2img/test_data/13_before_170801_4022.jpg\n",
      "/home/wsh/python/xmllabel2img/test_data/4_after_170801_4141.jpg\n",
      "/home/wsh/python/xmllabel2img/test_data/14_before_170801_3855.jpg\n",
      "/home/wsh/python/xmllabel2img/test_data/3_before_170801_4145.jpg\n",
      "/home/wsh/python/xmllabel2img/test_data/7_before_170801_4138.jpg\n",
      "/home/wsh/python/xmllabel2img/test_data/14_after_170801_3856.jpg\n",
      "/home/wsh/python/xmllabel2img/test_data/8_before_170801_4121.jpg\n",
      "/home/wsh/python/xmllabel2img/test_data/1_after_170801_4150.jpg\n",
      "/home/wsh/python/xmllabel2img/test_data/12_after_170801_4034.jpg\n",
      "/home/wsh/python/xmllabel2img/test_data/8_after_170801_4122.jpg\n",
      "/home/wsh/python/xmllabel2img/test_data/3_after_170801_4146.jpg\n",
      "/home/wsh/python/xmllabel2img/test_data/11_before_170801_4097.jpg\n",
      "/home/wsh/python/xmllabel2img/test_data/4_before_170801_4140.jpg\n",
      "/home/wsh/python/xmllabel2img/test_data/5_before_170801_4143.jpg\n",
      "/home/wsh/python/xmllabel2img/test_data/1_before_170801_4149.jpg\n",
      "/home/wsh/python/xmllabel2img/test_data/6_before_170801_4141.jpg\n",
      "/home/wsh/python/xmllabel2img/test_data/12_before_170801_4033.jpg\n",
      "/home/wsh/python/xmllabel2img/test_data/12_after_170801_4034.xml\n",
      "/home/wsh/python/xmllabel2img/test_data/11_before_170801_4097.xml\n",
      "/home/wsh/python/xmllabel2img/test_data/6_before_170801_4141.xml\n",
      "/home/wsh/python/xmllabel2img/test_data/1_after_170801_4150.xml\n",
      "/home/wsh/python/xmllabel2img/test_data/8_before_170801_4121.xml\n",
      "/home/wsh/python/xmllabel2img/test_data/5_after_170801_4144.xml\n",
      "/home/wsh/python/xmllabel2img/test_data/4_after_170801_4141.xml\n",
      "/home/wsh/python/xmllabel2img/test_data/1_before_170801_4149.xml\n",
      "/home/wsh/python/xmllabel2img/test_data/13_before_170801_4022.xml\n",
      "/home/wsh/python/xmllabel2img/test_data/7_before_170801_4138.xml\n",
      "/home/wsh/python/xmllabel2img/test_data/13_after_170801_4023.xml\n",
      "/home/wsh/python/xmllabel2img/test_data/6_after_170801_4142.xml\n",
      "/home/wsh/python/xmllabel2img/test_data/11_after_170801_4098.xml\n",
      "/home/wsh/python/xmllabel2img/test_data/3_before_170801_4145.xml\n",
      "/home/wsh/python/xmllabel2img/test_data/14_after_170801_3856.xml\n",
      "/home/wsh/python/xmllabel2img/test_data/7_after_170801_4139.xml\n",
      "/home/wsh/python/xmllabel2img/test_data/5_before_170801_4143.xml\n",
      "/home/wsh/python/xmllabel2img/test_data/12_before_170801_4033.xml\n",
      "/home/wsh/python/xmllabel2img/test_data/8_after_170801_4122.xml\n",
      "/home/wsh/python/xmllabel2img/test_data/3_after_170801_4146.xml\n"
     ]
    }
   ],
   "source": [
    "xmlpath = '/home/wsh/python/xmllabel2img/test_data/'\n",
    "imgpath = '/home/wsh/python/xmllabel2img/test_data/'\n",
    "\n",
    "imgfilenames = getfilenames(imgpath, '.jpg')\n",
    "xmlfilenames = getfilenames(xmlpath, '.xml')\n",
    "\n",
    "\n",
    "imagelist = xmllabel2img(xmlfilenames, imgfilenames)\n"
   ]
  },
  {
   "cell_type": "code",
   "execution_count": null,
   "metadata": {
    "collapsed": true
   },
   "outputs": [],
   "source": []
  }
 ],
 "metadata": {
  "kernelspec": {
   "display_name": "Python 3",
   "language": "python",
   "name": "python3"
  },
  "language_info": {
   "codemirror_mode": {
    "name": "ipython",
    "version": 3
   },
   "file_extension": ".py",
   "mimetype": "text/x-python",
   "name": "python",
   "nbconvert_exporter": "python",
   "pygments_lexer": "ipython3",
   "version": "3.6.1"
  }
 },
 "nbformat": 4,
 "nbformat_minor": 2
}
